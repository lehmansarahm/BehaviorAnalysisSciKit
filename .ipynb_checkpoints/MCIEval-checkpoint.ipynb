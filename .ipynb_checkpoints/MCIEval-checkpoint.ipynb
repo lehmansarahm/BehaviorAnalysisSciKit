{
 "cells": [
  {
   "cell_type": "code",
   "execution_count": 1,
   "metadata": {},
   "outputs": [
    {
     "name": "stdout",
     "output_type": "stream",
     "text": [
      "importing Jupyter notebook from MCIBase.ipynb\n"
     ]
    }
   ],
   "source": [
    "%run -i 'load_notebook_finder.py'\n",
    "sys.meta_path.append(NotebookFinder())\n",
    "import MCIBase"
   ]
  },
  {
   "cell_type": "code",
   "execution_count": 2,
   "metadata": {},
   "outputs": [],
   "source": [
    "def train_classifiers(filename=MCIBase.MCI_Constants.YA_SINGLE_BREAKFAST_SELECT):\n",
    "    train_data_set = MCIBase.load_mci_file(filename=filename)\n",
    "    train_values, train_labels, test_values, test_labels = MCIBase.split_train_test_matrices(train_data_set)\n",
    "\n",
    "    print(\"\")\n",
    "    print(\"# ---------------------------------------------------\")\n",
    "    print(\"    RANDOM FOREST (training results)    \")\n",
    "    print(\"# ---------------------------------------------------\")\n",
    "    rfCLF = MCIBase.train_rf_classifier(train_values, train_labels)\n",
    "\n",
    "    print(\"\")\n",
    "    print(\"# ---------------------------------------------------\")\n",
    "    print(\"    SVM (training results)    \")\n",
    "    print(\"# ---------------------------------------------------\")\n",
    "    svmCLF = MCIBase.train_svm_classifier(train_values, train_labels)\n",
    "\n",
    "    print(\"\")\n",
    "    print(\"# ---------------------------------------------------\")\n",
    "    print(\"    K-NEAREST NEIGHBORS (training results)    \")\n",
    "    print(\"# ---------------------------------------------------\")\n",
    "    knnCLF = MCIBase.train_knn_classifier(train_values, train_labels)\n",
    "    \n",
    "    return rfCLF, svmCLF, knnCLF"
   ]
  },
  {
   "cell_type": "code",
   "execution_count": 3,
   "metadata": {},
   "outputs": [],
   "source": [
    "def validate_classifier_predictions(rfCLF, svmCLF, knnCLF, filename=MCIBase.MCI_Constants.YA_SINGLE_LUNCH_SELECT):\n",
    "    data_set = MCIBase.load_mci_file(filename=filename)\n",
    "    values, labels = MCIBase.get_value_label_matrices(data_set)\n",
    "\n",
    "    print(\"\")\n",
    "    print(\"# ---------------------------------------------------\")\n",
    "    print(\"    RANDOM FOREST (predictions)    \")\n",
    "    print(\"# ---------------------------------------------------\")\n",
    "    MCIBase.validate_classifier_predictions(rfCLF, values, labels)\n",
    "\n",
    "    print(\"\")\n",
    "    print(\"# ---------------------------------------------------\")\n",
    "    print(\"    SVM (predictions)    \")\n",
    "    print(\"# ---------------------------------------------------\")\n",
    "    MCIBase.validate_classifier_predictions(svmCLF, values, labels)\n",
    "\n",
    "    print(\"\")\n",
    "    print(\"# ---------------------------------------------------\")\n",
    "    print(\"    K-NEAREST NEIGHBORS (predictions)    \")\n",
    "    print(\"# ---------------------------------------------------\")\n",
    "    MCIBase.validate_classifier_predictions(knnCLF, values, labels)\n",
    "    \n",
    "    return"
   ]
  },
  {
   "cell_type": "code",
   "execution_count": 4,
   "metadata": {},
   "outputs": [],
   "source": [
    "def get_classifier_predictions(rfCLF, svmCLF, knnCLF, filename=MCIBase.MCI_Constants.OA_BREAKFAST):\n",
    "    data_set = MCIBase.load_mci_file(filename=filename)\n",
    "\n",
    "    print(\"\")\n",
    "    print(\"# ---------------------------------------------------\")\n",
    "    print(\"    RANDOM FOREST (predictions)    \")\n",
    "    print(\"# ---------------------------------------------------\")\n",
    "    MCIBase.get_trained_classifier_predictions(data_set, rfCLF)\n",
    "\n",
    "    print(\"\")\n",
    "    print(\"# ---------------------------------------------------\")\n",
    "    print(\"    SVM (predictions)    \")\n",
    "    print(\"# ---------------------------------------------------\")\n",
    "    MCIBase.get_trained_classifier_predictions(data_set, svmCLF)\n",
    "\n",
    "    print(\"\")\n",
    "    print(\"# ---------------------------------------------------\")\n",
    "    print(\"    K-NEAREST NEIGHBORS (predictions)    \")\n",
    "    print(\"# ---------------------------------------------------\")\n",
    "    MCIBase.get_trained_classifier_predictions(data_set, knnCLF)\n",
    "    \n",
    "    return"
   ]
  },
  {
   "cell_type": "code",
   "execution_count": 5,
   "metadata": {
    "collapsed": true
   },
   "outputs": [],
   "source": [
    "def write_classifiers_to_file(rfCLF, svmCLF, knnCLF, task_name):\n",
    "    MCIBase.write_clf_to_file(rfCLF, MCIBase.MCI_Constants.get_random_forest_clf_path(task_name))\n",
    "    MCIBase.write_clf_to_file(svmCLF, MCIBase.MCI_Constants.get_svm_clf_path(task_name))\n",
    "    MCIBase.write_clf_to_file(knnCLF, MCIBase.MCI_Constants.get_nearest_neighbors_clf_path(task_name))\n",
    "    return\n",
    "\n",
    "def load_classifiers_from_file(task_name):\n",
    "    rfCLF = MCIBase.load_clf_from_file(MCIBase.MCI_Constants.get_random_forest_clf_path(task_name))\n",
    "    svmCLF = MCIBase.load_clf_from_file(MCIBase.MCI_Constants.get_svm_clf_path(task_name))\n",
    "    knnCLF = MCIBase.load_clf_from_file(MCIBase.MCI_Constants.get_nearest_neighbors_clf_path(task_name))\n",
    "    return rfCLF, svmCLF, knnCLF"
   ]
  }
 ],
 "metadata": {
  "kernelspec": {
   "display_name": "Python 3",
   "language": "python",
   "name": "python3"
  },
  "language_info": {
   "codemirror_mode": {
    "name": "ipython",
    "version": 3
   },
   "file_extension": ".py",
   "mimetype": "text/x-python",
   "name": "python",
   "nbconvert_exporter": "python",
   "pygments_lexer": "ipython3",
   "version": "3.5.2"
  }
 },
 "nbformat": 4,
 "nbformat_minor": 2
}
