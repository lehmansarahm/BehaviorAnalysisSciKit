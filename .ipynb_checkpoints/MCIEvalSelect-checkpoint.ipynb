{
 "cells": [
  {
   "cell_type": "code",
   "execution_count": 1,
   "metadata": {},
   "outputs": [
    {
     "name": "stdout",
     "output_type": "stream",
     "text": [
      "importing Jupyter notebook from MCIEval.ipynb\n",
      "importing Jupyter notebook from MCIBase.ipynb\n"
     ]
    }
   ],
   "source": [
    "%run -i 'load_notebook_finder.py'\n",
    "sys.meta_path.append(NotebookFinder())\n",
    "import MCIEval\n",
    "\n",
    "train_new_data = False\n",
    "task_name = \"select\""
   ]
  },
  {
   "cell_type": "code",
   "execution_count": 2,
   "metadata": {
    "collapsed": true
   },
   "outputs": [],
   "source": [
    "if (train_new_data):\n",
    "    print(\"# -------------------------------------------------------------------\")\n",
    "    print(\"    TRAINING CLASSIFIERS WITH YA-SINGLE BREAKFAST, 'SELECT' TASKS    \")\n",
    "    print(\"# -------------------------------------------------------------------\")\n",
    "    print(\"\")\n",
    "\n",
    "    rf_clf, svm_clf, knn_clf = MCIEval.train_classifiers()\n",
    "    \n",
    "    print(\"\")\n",
    "    print(\"# -------------------------------------------------------------------\")\n",
    "    print(\"    DUMPING TRAINED CLASSIFIER MODELS TO LOCAL FILES    \")\n",
    "    print(\"# -------------------------------------------------------------------\")\n",
    "\n",
    "    MCIEval.write_classifiers_to_file(rf_clf, svm_clf, knn_clf, task_name)"
   ]
  },
  {
   "cell_type": "code",
   "execution_count": 3,
   "metadata": {},
   "outputs": [
    {
     "name": "stdout",
     "output_type": "stream",
     "text": [
      "# -------------------------------------------------------------------\n",
      "    RETRIEVING TRAINED CLASSIFIER MODELS FROM LOCAL FILES    \n",
      "# -------------------------------------------------------------------\n"
     ]
    }
   ],
   "source": [
    "print(\"# -------------------------------------------------------------------\")\n",
    "print(\"    RETRIEVING TRAINED CLASSIFIER MODELS FROM LOCAL FILES    \")\n",
    "print(\"# -------------------------------------------------------------------\")\n",
    "\n",
    "rfCLF, svmCLF, knnCLF = MCIEval.load_classifiers_from_file(task_name)"
   ]
  },
  {
   "cell_type": "code",
   "execution_count": 4,
   "metadata": {},
   "outputs": [
    {
     "name": "stdout",
     "output_type": "stream",
     "text": [
      "# -------------------------------------------------------------------\n",
      "    TESTING CLASSIFIERS AGAINST YA-SINGLE LUNCH, 'SELECT' TASKS    \n",
      "# -------------------------------------------------------------------\n",
      "\n",
      "547 values +  547 labels\n",
      "\n",
      "# ---------------------------------------------------\n",
      "    RANDOM FOREST (predictions)    \n",
      "# ---------------------------------------------------\n",
      "\n",
      "Default Precision: 0.338582677165\n",
      "Default Recall: 0.288590604027\n",
      "Default F-score: 0.311594202899\n",
      "\n",
      "Micro Precision: 0.652650822669\n",
      "Micro Recall: 0.652650822669\n",
      "Micro F-score: 0.652650822669\n",
      "\n",
      "Macro Precision: 0.543100862392\n",
      "Macro Recall: 0.538767663822\n",
      "Macro F-score: 0.539660182134\n",
      "\n",
      "Weighted Precision: 0.636199634095\n",
      "Weighted Recall: 0.652650822669\n",
      "Weighted F-score: 0.643478150744\n",
      "\n",
      "# ---------------------------------------------------\n",
      "    SVM (predictions)    \n",
      "# ---------------------------------------------------\n",
      "\n",
      "Default Precision: 0.8\n",
      "Default Recall: 0.0536912751678\n",
      "Default F-score: 0.100628930818\n",
      "\n",
      "Micro Precision: 0.738574040219\n",
      "Micro Recall: 0.738574040219\n",
      "Micro F-score: 0.738574040219\n",
      "\n",
      "Macro Precision: 0.768715083799\n",
      "Macro Recall: 0.52433307477\n",
      "Macro F-score: 0.473843877174\n",
      "\n",
      "Weighted Precision: 0.75447386966\n",
      "Weighted Recall: 0.738574040219\n",
      "Weighted F-score: 0.643735141602\n",
      "\n",
      "# ---------------------------------------------------\n",
      "    K-NEAREST NEIGHBORS (predictions)    \n",
      "# ---------------------------------------------------\n",
      "\n",
      "Default Precision: 0.308571428571\n",
      "Default Recall: 0.362416107383\n",
      "Default F-score: 0.333333333333\n",
      "\n",
      "Micro Precision: 0.605118829982\n",
      "Micro Recall: 0.605118829982\n",
      "Micro F-score: 0.605118829982\n",
      "\n",
      "Macro Precision: 0.526597542243\n",
      "Macro Recall: 0.52919800344\n",
      "Macro F-score: 0.526406926407\n",
      "\n",
      "Weighted Precision: 0.625845261263\n",
      "Weighted Recall: 0.605118829982\n",
      "Weighted F-score: 0.614296002596\n"
     ]
    }
   ],
   "source": [
    "print(\"# -------------------------------------------------------------------\")\n",
    "print(\"    TESTING CLASSIFIERS AGAINST YA-SINGLE LUNCH, 'SELECT' TASKS    \")\n",
    "print(\"# -------------------------------------------------------------------\")\n",
    "print(\"\")\n",
    "\n",
    "MCIEval.validate_classifier_predictions(rfCLF, svmCLF, knnCLF)"
   ]
  },
  {
   "cell_type": "code",
   "execution_count": 5,
   "metadata": {
    "scrolled": true
   },
   "outputs": [
    {
     "name": "stdout",
     "output_type": "stream",
     "text": [
      "# -------------------------------------------------------------------\n",
      "    TESTING CLASSIFIERS AGAINST OA BREAKFAST, 'SELECT' TASKS    \n",
      "# -------------------------------------------------------------------\n",
      "\n",
      "312 values +  312 labels\n",
      "\n",
      "# ---------------------------------------------------\n",
      "    RANDOM FOREST (predictions)    \n",
      "# ---------------------------------------------------\n",
      "\n",
      "Default Precision: 0.485714285714\n",
      "Default Recall: 0.309090909091\n",
      "Default F-score: 0.377777777778\n",
      "\n",
      "Micro Precision: 0.641025641026\n",
      "Micro Recall: 0.641025641026\n",
      "Micro F-score: 0.641025641026\n",
      "\n",
      "Macro Precision: 0.585832349469\n",
      "Macro Recall: 0.565436543654\n",
      "Macro F-score: 0.562762762763\n",
      "\n",
      "Weighted Precision: 0.615354342627\n",
      "Weighted Recall: 0.641025641026\n",
      "Weighted F-score: 0.61730961731\n",
      "\n",
      "# ---------------------------------------------------\n",
      "    SVM (predictions)    \n",
      "# ---------------------------------------------------\n",
      "\n",
      "Default Precision: 0.7\n",
      "Default Recall: 0.0636363636364\n",
      "Default F-score: 0.116666666667\n",
      "\n",
      "Micro Precision: 0.660256410256\n",
      "Micro Recall: 0.660256410256\n",
      "Micro F-score: 0.660256410256\n",
      "\n",
      "Macro Precision: 0.679470198675\n",
      "Macro Recall: 0.524392439244\n",
      "Macro F-score: 0.453174603175\n",
      "\n",
      "Weighted Precision: 0.673416539311\n",
      "Weighted Recall: 0.660256410256\n",
      "Weighted F-score: 0.552401302401\n",
      "\n",
      "# ---------------------------------------------------\n",
      "    K-NEAREST NEIGHBORS (predictions)    \n",
      "# ---------------------------------------------------\n",
      "\n",
      "Default Precision: 0.45\n",
      "Default Recall: 0.327272727273\n",
      "Default F-score: 0.378947368421\n",
      "\n",
      "Micro Precision: 0.621794871795\n",
      "Micro Recall: 0.621794871795\n",
      "Micro F-score: 0.621794871795\n",
      "\n",
      "Macro Precision: 0.565517241379\n",
      "Macro Recall: 0.554725472547\n",
      "Macro F-score: 0.55352898375\n",
      "\n",
      "Weighted Precision: 0.599580017683\n",
      "Weighted Recall: 0.621794871795\n",
      "Weighted F-score: 0.605008178013\n"
     ]
    }
   ],
   "source": [
    "print(\"# -------------------------------------------------------------------\")\n",
    "print(\"    TESTING CLASSIFIERS AGAINST OA BREAKFAST, 'SELECT' TASKS    \")\n",
    "print(\"# -------------------------------------------------------------------\")\n",
    "print(\"\")\n",
    "\n",
    "MCIEval.validate_classifier_predictions(rfCLF, svmCLF, knnCLF, \n",
    "                                        MCIEval.MCIBase.MCI_Constants.OA_BREAKFAST_SELECT)"
   ]
  },
  {
   "cell_type": "code",
   "execution_count": 6,
   "metadata": {},
   "outputs": [
    {
     "name": "stdout",
     "output_type": "stream",
     "text": [
      "# -------------------------------------------------------------------\n",
      "    EXPLICIT PREDICTIONS FOR OA BREAKFAST, NO TASK LABELS    \n",
      "# -------------------------------------------------------------------\n",
      "\n",
      "# ---------------------------------------------------\n",
      "    RANDOM FOREST (predictions)    \n",
      "# ---------------------------------------------------\n",
      "1648 values +  1648 labels\n",
      "\n",
      "# ---------------------------------------------------\n",
      "    SVM (predictions)    \n",
      "# ---------------------------------------------------\n",
      "1648 values +  1648 labels\n",
      "\n",
      "# ---------------------------------------------------\n",
      "    K-NEAREST NEIGHBORS (predictions)    \n",
      "# ---------------------------------------------------\n",
      "1648 values +  1648 labels\n",
      "Output written to file at: output/MCIEvalSelect-OABreakfast.csv\n"
     ]
    }
   ],
   "source": [
    "print(\"# -------------------------------------------------------------------\")\n",
    "print(\"    EXPLICIT PREDICTIONS FOR OA BREAKFAST, NO TASK LABELS    \")\n",
    "print(\"# -------------------------------------------------------------------\")\n",
    "\n",
    "predictions = MCIEval.get_classifier_predictions(rfCLF, svmCLF, knnCLF)\n",
    "MCIEval.MCIBase.write_output_file(\"MCIEvalSelect-OABreakfast.csv\", predictions)\n",
    "# print(predictions)"
   ]
  },
  {
   "cell_type": "code",
   "execution_count": 7,
   "metadata": {},
   "outputs": [
    {
     "name": "stdout",
     "output_type": "stream",
     "text": [
      "# -------------------------------------------------------------------\n",
      "    EXPLICIT PREDICTIONS FOR YA-SINGLE BREAKFAST, NO TASK LABELS    \n",
      "# -------------------------------------------------------------------\n"
     ]
    },
    {
     "ename": "NameError",
     "evalue": "name 'MCIBase' is not defined",
     "output_type": "error",
     "traceback": [
      "\u001b[0;31m---------------------------------------------------------------------------\u001b[0m",
      "\u001b[0;31mNameError\u001b[0m                                 Traceback (most recent call last)",
      "\u001b[0;32m~/Projects/BehaviorAnalysisSciKit/load_notebook_finder.py\u001b[0m in \u001b[0;36m<module>\u001b[0;34m()\u001b[0m\n\u001b[1;32m      3\u001b[0m \u001b[0mprint\u001b[0m\u001b[0;34m(\u001b[0m\u001b[0;34m\"# -------------------------------------------------------------------\"\u001b[0m\u001b[0;34m)\u001b[0m\u001b[0;34m\u001b[0m\u001b[0m\n\u001b[1;32m      4\u001b[0m \u001b[0;34m\u001b[0m\u001b[0m\n\u001b[0;32m----> 5\u001b[0;31m \u001b[0mpredictions\u001b[0m \u001b[0;34m=\u001b[0m \u001b[0mMCIEval\u001b[0m\u001b[0;34m.\u001b[0m\u001b[0mget_classifier_predictions\u001b[0m\u001b[0;34m(\u001b[0m\u001b[0mrfCLF\u001b[0m\u001b[0;34m,\u001b[0m \u001b[0msvmCLF\u001b[0m\u001b[0;34m,\u001b[0m \u001b[0mknnCLF\u001b[0m\u001b[0;34m,\u001b[0m \u001b[0mMCIBase\u001b[0m\u001b[0;34m.\u001b[0m\u001b[0mMCI_Constants\u001b[0m\u001b[0;34m.\u001b[0m\u001b[0mYA_SINGLE_BREAKFAST\u001b[0m\u001b[0;34m)\u001b[0m\u001b[0;34m\u001b[0m\u001b[0m\n\u001b[0m\u001b[1;32m      6\u001b[0m \u001b[0mMCIEval\u001b[0m\u001b[0;34m.\u001b[0m\u001b[0mMCIBase\u001b[0m\u001b[0;34m.\u001b[0m\u001b[0mwrite_output_file\u001b[0m\u001b[0;34m(\u001b[0m\u001b[0;34m\"MCIEvalSelect-YASingle-Breakfast.csv\"\u001b[0m\u001b[0;34m,\u001b[0m \u001b[0mpredictions\u001b[0m\u001b[0;34m)\u001b[0m\u001b[0;34m\u001b[0m\u001b[0m\n\u001b[1;32m      7\u001b[0m \u001b[0;31m# print(predictions)\u001b[0m\u001b[0;34m\u001b[0m\u001b[0;34m\u001b[0m\u001b[0m\n",
      "\u001b[0;31mNameError\u001b[0m: name 'MCIBase' is not defined"
     ]
    }
   ],
   "source": [
    "print(\"# -------------------------------------------------------------------\")\n",
    "print(\"    EXPLICIT PREDICTIONS FOR YA-SINGLE BREAKFAST, NO TASK LABELS    \")\n",
    "print(\"# -------------------------------------------------------------------\")\n",
    "\n",
    "predictions = MCIEval.get_classifier_predictions(rfCLF, svmCLF, knnCLF, MCIEval.MCIBase.MCI_Constants.YA_SINGLE_BREAKFAST)\n",
    "MCIEval.MCIBase.write_output_file(\"MCIEvalSelect-YASingle-Breakfast.csv\", predictions)\n",
    "# print(predictions)"
   ]
  },
  {
   "cell_type": "code",
   "execution_count": null,
   "metadata": {
    "collapsed": true
   },
   "outputs": [],
   "source": [
    "print(\"# -------------------------------------------------------------------\")\n",
    "print(\"    EXPLICIT PREDICTIONS FOR YA-SINGLE LUNCH, NO TASK LABELS    \")\n",
    "print(\"# -------------------------------------------------------------------\")\n",
    "\n",
    "predictions = MCIEval.get_classifier_predictions(rfCLF, svmCLF, knnCLF, MCIEval.MCIBase.MCI_Constants.YA_SINGLE_LUNCH)\n",
    "MCIEval.MCIBase.write_output_file(\"MCIEvalSelect-YASingle-Lunch.csv\", predictions)\n",
    "# print(predictions)"
   ]
  }
 ],
 "metadata": {
  "kernelspec": {
   "display_name": "Python 3",
   "language": "python",
   "name": "python3"
  },
  "language_info": {
   "codemirror_mode": {
    "name": "ipython",
    "version": 3
   },
   "file_extension": ".py",
   "mimetype": "text/x-python",
   "name": "python",
   "nbconvert_exporter": "python",
   "pygments_lexer": "ipython3",
   "version": "3.5.2"
  }
 },
 "nbformat": 4,
 "nbformat_minor": 2
}
