{
 "cells": [
  {
   "cell_type": "code",
   "execution_count": null,
   "metadata": {},
   "outputs": [
    {
     "name": "stdout",
     "output_type": "stream",
     "text": [
      "importing Jupyter notebook from MCIEval.ipynb\n",
      "importing Jupyter notebook from MCIBase.ipynb\n"
     ]
    }
   ],
   "source": [
    "%run -i 'load_notebook_finder.py'\n",
    "sys.meta_path.append(NotebookFinder())\n",
    "import MCIEval\n",
    "\n",
    "train_new_data = True\n",
    "task_name = \"scoop\""
   ]
  },
  {
   "cell_type": "code",
   "execution_count": null,
   "metadata": {},
   "outputs": [
    {
     "name": "stdout",
     "output_type": "stream",
     "text": [
      "# -------------------------------------------------------------------\n",
      "    TRAINING CLASSIFIERS WITH YA-SINGLE BREAKFAST, 'SCOOP' TASKS    \n",
      "# -------------------------------------------------------------------\n",
      "\n",
      "364 train + 92 test\n",
      "364 values +  364 labels\n",
      "92 values +  92 labels\n",
      "\n",
      "# ---------------------------------------------------\n",
      "    RANDOM FOREST (training results)    \n",
      "# ---------------------------------------------------\n"
     ]
    }
   ],
   "source": [
    "if (train_new_data):\n",
    "    print(\"# -------------------------------------------------------------------\")\n",
    "    print(\"    TRAINING CLASSIFIERS WITH YA-SINGLE BREAKFAST, 'SCOOP' TASKS    \")\n",
    "    print(\"# -------------------------------------------------------------------\")\n",
    "    print(\"\")\n",
    "\n",
    "    rf_clf, svm_clf, knn_clf = MCIEval.train_classifiers(filename=MCIEval.MCIBase.MCI_Constants.YA_SINGLE_BREAKFAST_SCOOP)\n",
    "    \n",
    "    print(\"\")\n",
    "    print(\"# -------------------------------------------------------------------\")\n",
    "    print(\"    DUMPING TRAINED CLASSIFIER MODELS TO LOCAL FILES    \")\n",
    "    print(\"# -------------------------------------------------------------------\")\n",
    "\n",
    "    MCIEval.write_classifiers_to_file(rf_clf, svm_clf, knn_clf, task_name)"
   ]
  },
  {
   "cell_type": "code",
   "execution_count": null,
   "metadata": {},
   "outputs": [],
   "source": [
    "print(\"# -------------------------------------------------------------------\")\n",
    "print(\"    RETRIEVING TRAINED CLASSIFIER MODELS FROM LOCAL FILES    \")\n",
    "print(\"# -------------------------------------------------------------------\")\n",
    "\n",
    "rfCLF, svmCLF, knnCLF = MCIEval.load_classifiers_from_file(task_name)"
   ]
  },
  {
   "cell_type": "code",
   "execution_count": null,
   "metadata": {},
   "outputs": [],
   "source": [
    "print(\"# -------------------------------------------------------------------\")\n",
    "print(\"    TESTING CLASSIFIERS AGAINST YA-SINGLE LUNCH, 'SCOOP' TASKS    \")\n",
    "print(\"# -------------------------------------------------------------------\")\n",
    "print(\"\")\n",
    "\n",
    "MCIEval.validate_classifier_predictions(rfCLF, svmCLF, knnCLF, MCIEval.MCIBase.MCI_Constants.YA_SINGLE_LUNCH_SCOOP)"
   ]
  },
  {
   "cell_type": "code",
   "execution_count": null,
   "metadata": {
    "scrolled": true
   },
   "outputs": [],
   "source": [
    "print(\"# -------------------------------------------------------------------\")\n",
    "print(\"    TESTING CLASSIFIERS AGAINST OA BREAKFAST, 'SCOOP' TASKS    \")\n",
    "print(\"# -------------------------------------------------------------------\")\n",
    "print(\"\")\n",
    "\n",
    "MCIEval.validate_classifier_predictions(rfCLF, svmCLF, knnCLF, \n",
    "                                        MCIEval.MCIBase.MCI_Constants.OA_BREAKFAST_SCOOP)"
   ]
  },
  {
   "cell_type": "code",
   "execution_count": null,
   "metadata": {},
   "outputs": [],
   "source": [
    "print(\"# -------------------------------------------------------------------\")\n",
    "print(\"    EXPLICIT PREDICTIONS FOR OA BREAKFAST, NO TASK LABELS    \")\n",
    "print(\"# -------------------------------------------------------------------\")\n",
    "\n",
    "predictions = MCIEval.get_classifier_predictions(rfCLF, svmCLF, knnCLF)\n",
    "MCIEval.MCIBase.write_output_file(\"MCIEvalScoop.csv\", predictions)\n",
    "# print(predictions)"
   ]
  },
  {
   "cell_type": "code",
   "execution_count": null,
   "metadata": {
    "collapsed": true
   },
   "outputs": [],
   "source": []
  }
 ],
 "metadata": {
  "kernelspec": {
   "display_name": "Python 3",
   "language": "python",
   "name": "python3"
  },
  "language_info": {
   "codemirror_mode": {
    "name": "ipython",
    "version": 3
   },
   "file_extension": ".py",
   "mimetype": "text/x-python",
   "name": "python",
   "nbconvert_exporter": "python",
   "pygments_lexer": "ipython3",
   "version": "3.5.2"
  }
 },
 "nbformat": 4,
 "nbformat_minor": 2
}
